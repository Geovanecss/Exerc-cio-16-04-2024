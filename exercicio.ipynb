{
 "cells": [
  {
   "cell_type": "code",
   "execution_count": 27,
   "metadata": {},
   "outputs": [
    {
     "name": "stdout",
     "output_type": "stream",
     "text": [
      "O resultado é: 150.0\n"
     ]
    }
   ],
   "source": [
    "nu1 = float(input(\"Digite o 1o número:\"))\n",
    "nu2 = float(input(\"Digite o 2o número:\"))\n",
    "\n",
    "produto = (nu1 * 3) * (nu2/2)\n",
    "print(\"O resultado é:\",produto)\n",
    "\n",
    "# nu1 = int(input(\"Digite o 1o número:\"))\n",
    "# nu1 = int(input(\"Digite o 2o número:\"))\n",
    "# nu1 = float(input(\"Digite o 3o número:\"))\n",
    "\n",
    "# produto = (nu1 * 3) * (nu2 / 2)\n",
    "# soma = (num1 * 3) + (num3 ** 3)\n",
    "# print(produto)\n",
    "# print(soma)"
   ]
  },
  {
   "cell_type": "code",
   "execution_count": 31,
   "metadata": {},
   "outputs": [
    {
     "name": "stdout",
     "output_type": "stream",
     "text": [
      "O maior é: 3 , o segundo\n"
     ]
    }
   ],
   "source": [
    "nu1 = int(input(\"Digite um número:\"))\n",
    "nu2 = int(input(\"Digite outro número:\"))\n",
    "\n",
    "if nu1 > nu2:\n",
    "    print(\"O maior é:\",nu1,\", o primeiro\")\n",
    "else:\n",
    "    print(\"O maior é:\",nu2,\", o segundo\")"
   ]
  },
  {
   "cell_type": "code",
   "execution_count": 47,
   "metadata": {},
   "outputs": [
    {
     "name": "stdout",
     "output_type": "stream",
     "text": [
      "O número é: Positivo\n"
     ]
    }
   ],
   "source": [
    "valor = int(input(\"Digite qualquer número:\"))\n",
    "\n",
    "if valor > 0:\n",
    "    print(\"O número é: Positivo\")\n",
    "elif valor < 0:\n",
    "    print(\"O número é: Negativo\")\n",
    "else:\n",
    "    print(\"O número é: nulo\")"
   ]
  },
  {
   "cell_type": "code",
   "execution_count": 46,
   "metadata": {},
   "outputs": [
    {
     "name": "stdout",
     "output_type": "stream",
     "text": [
      "Aprovado\n"
     ]
    }
   ],
   "source": [
    "nt1 = float(input('Digite sua primeira nota: '))\n",
    "nt2 = float(input('Digite sua segunda nota: '))\n",
    "\n",
    "med = (nt1 + nt2) / 2\n",
    "\n",
    "if med > 7.00:\n",
    "    print ('Aprovado')\n",
    "else:\n",
    "    print ('Reprovado')"
   ]
  },
  {
   "cell_type": "code",
   "execution_count": 3,
   "metadata": {},
   "outputs": [
    {
     "name": "stdout",
     "output_type": "stream",
     "text": [
      "12\n"
     ]
    }
   ],
   "source": [
    "nu1 = int(input('Digite um número: '))\n",
    "nu2 = int(input('Digite um número: '))\n",
    "nu3 = int(input('Digite um número: '))\n",
    "\n",
    "if nu1 > nu2 and nu1 > nu3:\n",
    "    print (nu1)\n",
    "\n",
    "elif nu2 > nu3:\n",
    "    print (nu2)\n",
    "    \n",
    "else:\n",
    "    print (nu3)"
   ]
  }
 ],
 "metadata": {
  "kernelspec": {
   "display_name": "Python 3",
   "language": "python",
   "name": "python3"
  },
  "language_info": {
   "codemirror_mode": {
    "name": "ipython",
    "version": 3
   },
   "file_extension": ".py",
   "mimetype": "text/x-python",
   "name": "python",
   "nbconvert_exporter": "python",
   "pygments_lexer": "ipython3",
   "version": "3.11.9"
  }
 },
 "nbformat": 4,
 "nbformat_minor": 2
}
